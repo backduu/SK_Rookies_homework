{
 "cells": [
  {
   "cell_type": "markdown",
   "id": "3adbfd2e",
   "metadata": {},
   "source": [
    "## Nate 뉴스기사 제목 스크래핑하기"
   ]
  },
  {
   "cell_type": "code",
   "execution_count": null,
   "id": "e232cbf2",
   "metadata": {},
   "outputs": [],
   "source": [
    "import requests\n",
    "from urllib.parse import urljoin\n",
    "from bs4 import BeautifulSoup\n",
    "from IPython.display import Image, display\n",
    "\n",
    "\n",
    "section_dict = {\n",
    "    '최신뉴스': 'n0100',\n",
    "    '정치': 'n0101',\n",
    "    '경제': 'n0102',\n",
    "    '사회': 'n0103',\n",
    "    '세계': 'n0104',\n",
    "    'IT/과학': 'n0105'\n",
    "}\n",
    "\n",
    "def scraping_nate_news(section_name):\n",
    "        # 섹션 예외처리\n",
    "    if not section_dict.get(section_name):\n",
    "        print(f\"'{section_name}'은 존재하지 않습니다!\")\n",
    "        return\n",
    "    \n",
    "    news_url = f'https://news.nate.com/recent?mid={section_dict[section_name]}'\n",
    "\n",
    "    print(f'++++++++++++ [ {section_name} 뉴스 ] {news_url} ++++++++++++')\n",
    "    req_header = {\n",
    "        'referer' : news_url,\n",
    "        \"user-agent\": \"Mozilla/5.0 (Windows NT 10.0; Win64; x64) AppleWebKit/537.36 (KHTML, like Gecko) Chrome/104.0.0.0 Safari/537.36\"\n",
    "    }\n",
    "\n",
    "    res = requests.get(news_url)\n",
    "    res.encoding = 'EUC-KR'\n",
    "    if res.ok:\n",
    "        soup = BeautifulSoup(res.text, 'html.parser')\n",
    "        news_items = soup.select('div.postSubjectContent div.mlt01')\n",
    "\n",
    "        for news_item in news_items:\n",
    "            # 기사 제목\n",
    "            h2_tag = news_item.select_one('h2.tit')\n",
    "            title = h2_tag.text.strip()\n",
    "            # 기사 링크\n",
    "            a_tag = news_item.find('a')\n",
    "            url = a_tag['href']\n",
    "            image_tag = a_tag.select_one('img[src]')\n",
    "            \n",
    "            print(f'기사제목: {title}')\n",
    "            print(f'기사링크: {url}')\n",
    "            if image_tag and 'src' in image_tag.attrs: # 이미지 존재 여부 및 src 속성 확인\n",
    "                # 기사 이미지\n",
    "                full_image_url = urljoin(news_url, image_tag['src'])\n",
    "                print(f\"Image  : {full_image_url}\")\n",
    "                display(Image(url=full_image_url))\n",
    "            \n",
    "            print()\n",
    "\n",
    "\n",
    "            #print(len(soup.select(\"img[src^='//thumbnews.nateimg.co.kr/news90///news.nateimg.co.kr/orgImg/']\")))4=          \n",
    "            \n",
    "  "
   ]
  },
  {
   "cell_type": "code",
   "execution_count": 40,
   "id": "68187fb1",
   "metadata": {},
   "outputs": [
    {
     "name": "stdout",
     "output_type": "stream",
     "text": [
      "++++++++++++ [ 경제 뉴스 ] https://news.nate.com/recent?mid=n0102 ++++++++++++\n",
      "기사제목: 부산 화명동 화명롯데캐슬카이저 84㎡ 5억9000만원에 거래\n",
      "기사링크: //news.nate.com/view/20250723n17685?mid=n0102\n",
      "Image  : https://thumbnews.nateimg.co.kr/news90///news.nateimg.co.kr/orgImg/cz/2025/07/23/cz_1753242665608_123499_0.jpg\n"
     ]
    },
    {
     "data": {
      "text/html": [
       "<img src=\"https://thumbnews.nateimg.co.kr/news90///news.nateimg.co.kr/orgImg/cz/2025/07/23/cz_1753242665608_123499_0.jpg\"/>"
      ],
      "text/plain": [
       "<IPython.core.display.Image object>"
      ]
     },
     "metadata": {},
     "output_type": "display_data"
    },
    {
     "name": "stdout",
     "output_type": "stream",
     "text": [
      "\n",
      "기사제목: 카카오게임즈 신작 '가디스오더', 9월 글로벌 정식 출시 예고\n",
      "기사링크: //news.nate.com/view/20250723n17677?mid=n0102\n",
      "Image  : https://thumbnews.nateimg.co.kr/news90///news.nateimg.co.kr/orgImg/mk/2025/07/23/news-p.v1.20250723.8e5b978d45034f47a4f653d20d07715e_P1.jpg\n"
     ]
    },
    {
     "data": {
      "text/html": [
       "<img src=\"https://thumbnews.nateimg.co.kr/news90///news.nateimg.co.kr/orgImg/mk/2025/07/23/news-p.v1.20250723.8e5b978d45034f47a4f653d20d07715e_P1.jpg\"/>"
      ],
      "text/plain": [
       "<IPython.core.display.Image object>"
      ]
     },
     "metadata": {},
     "output_type": "display_data"
    },
    {
     "name": "stdout",
     "output_type": "stream",
     "text": [
      "\n",
      "기사제목: 미래기술교육연구원, 'ChatGPT 활용 마스터 3기' 교육 개설\n",
      "기사링크: //news.nate.com/view/20250723n17667?mid=n0102\n",
      "Image  : https://thumbnews.nateimg.co.kr/news90///news.nateimg.co.kr/orgImg/wh/2025/07/23/1247378_1446424_4752.jpg\n"
     ]
    },
    {
     "data": {
      "text/html": [
       "<img src=\"https://thumbnews.nateimg.co.kr/news90///news.nateimg.co.kr/orgImg/wh/2025/07/23/1247378_1446424_4752.jpg\"/>"
      ],
      "text/plain": [
       "<IPython.core.display.Image object>"
      ]
     },
     "metadata": {},
     "output_type": "display_data"
    },
    {
     "name": "stdout",
     "output_type": "stream",
     "text": [
      "\n",
      "기사제목: '소비쿠폰 효과' 톡톡…CU 간편식 매출 24% 증가\n",
      "기사링크: //news.nate.com/view/20250723n17662?mid=n0102\n",
      "Image  : https://thumbnews.nateimg.co.kr/news90///news.nateimg.co.kr/orgImg/na/2025/07/23/7408706_high.jpg\n"
     ]
    },
    {
     "data": {
      "text/html": [
       "<img src=\"https://thumbnews.nateimg.co.kr/news90///news.nateimg.co.kr/orgImg/na/2025/07/23/7408706_high.jpg\"/>"
      ],
      "text/plain": [
       "<IPython.core.display.Image object>"
      ]
     },
     "metadata": {},
     "output_type": "display_data"
    },
    {
     "name": "stdout",
     "output_type": "stream",
     "text": [
      "\n",
      "기사제목: \"중국서 무려 100억어치 팔려\" 김밥 난리에…풀무원 '불기둥'\n",
      "기사링크: //news.nate.com/view/20250723n17074?mid=n0102\n",
      "Image  : https://thumbnews.nateimg.co.kr/news90///news.nateimg.co.kr/orgImg/mt/2025/07/23/mt_1753242364835_32893_0.jpg\n"
     ]
    },
    {
     "data": {
      "text/html": [
       "<img src=\"https://thumbnews.nateimg.co.kr/news90///news.nateimg.co.kr/orgImg/mt/2025/07/23/mt_1753242364835_32893_0.jpg\"/>"
      ],
      "text/plain": [
       "<IPython.core.display.Image object>"
      ]
     },
     "metadata": {},
     "output_type": "display_data"
    },
    {
     "name": "stdout",
     "output_type": "stream",
     "text": [
      "\n",
      "기사제목: 부산 화명동 화명롯데캐슬카이저 98㎡ 7억3000만원에 거래\n",
      "기사링크: //news.nate.com/view/20250723n17567?mid=n0102\n",
      "Image  : https://thumbnews.nateimg.co.kr/news90///news.nateimg.co.kr/orgImg/cz/2025/07/23/cz_1753242364623_638390_0.jpg\n"
     ]
    },
    {
     "data": {
      "text/html": [
       "<img src=\"https://thumbnews.nateimg.co.kr/news90///news.nateimg.co.kr/orgImg/cz/2025/07/23/cz_1753242364623_638390_0.jpg\"/>"
      ],
      "text/plain": [
       "<IPython.core.display.Image object>"
      ]
     },
     "metadata": {},
     "output_type": "display_data"
    },
    {
     "name": "stdout",
     "output_type": "stream",
     "text": [
      "\n",
      "기사제목: 다들 미쳤다고 했던 '비트코인 연봉'…4년 만에 2배로 뛰었다\n",
      "기사링크: //news.nate.com/view/20250723n17535?mid=n0102\n",
      "Image  : https://thumbnews.nateimg.co.kr/news90///news.nateimg.co.kr/orgImg/no/2025/07/23/SSC_20250723124227_V.jpg\n"
     ]
    },
    {
     "data": {
      "text/html": [
       "<img src=\"https://thumbnews.nateimg.co.kr/news90///news.nateimg.co.kr/orgImg/no/2025/07/23/SSC_20250723124227_V.jpg\"/>"
      ],
      "text/plain": [
       "<IPython.core.display.Image object>"
      ]
     },
     "metadata": {},
     "output_type": "display_data"
    },
    {
     "name": "stdout",
     "output_type": "stream",
     "text": [
      "\n",
      "기사제목: 中 '스마트 글라스' 주도권 노린다…로봇시대 데이터 확보戰\n",
      "기사링크: //news.nate.com/view/20250723n17505?mid=n0102\n",
      "Image  : https://thumbnews.nateimg.co.kr/news90///news.nateimg.co.kr/orgImg/en/2025/07/23/1671549_687366_5638.jpg\n"
     ]
    },
    {
     "data": {
      "text/html": [
       "<img src=\"https://thumbnews.nateimg.co.kr/news90///news.nateimg.co.kr/orgImg/en/2025/07/23/1671549_687366_5638.jpg\"/>"
      ],
      "text/plain": [
       "<IPython.core.display.Image object>"
      ]
     },
     "metadata": {},
     "output_type": "display_data"
    },
    {
     "name": "stdout",
     "output_type": "stream",
     "text": [
      "\n",
      "기사제목: \"막힌 귀는 시원하게, 소리는 강렬하게\"…하만 JBL, '오픈형 이어폰 끝판왕' 출시\n",
      "기사링크: //news.nate.com/view/20250723n17497?mid=n0102\n",
      "Image  : https://thumbnews.nateimg.co.kr/news90///news.nateimg.co.kr/orgImg/mk/2025/07/23/news-p.v1.20250723.c12dc1ef76c049e3addf74b61933233a_P1.jpg\n"
     ]
    },
    {
     "data": {
      "text/html": [
       "<img src=\"https://thumbnews.nateimg.co.kr/news90///news.nateimg.co.kr/orgImg/mk/2025/07/23/news-p.v1.20250723.c12dc1ef76c049e3addf74b61933233a_P1.jpg\"/>"
      ],
      "text/plain": [
       "<IPython.core.display.Image object>"
      ]
     },
     "metadata": {},
     "output_type": "display_data"
    },
    {
     "name": "stdout",
     "output_type": "stream",
     "text": [
      "\n",
      "기사제목: 서울 고덕동 래미안힐스테이트 고덕  84㎡ 17억2500만원에 거래\n",
      "기사링크: //news.nate.com/view/20250723n17491?mid=n0102\n",
      "Image  : https://thumbnews.nateimg.co.kr/news90///news.nateimg.co.kr/orgImg/cz/2025/07/23/cz_1753242064988_567932_0.jpg\n"
     ]
    },
    {
     "data": {
      "text/html": [
       "<img src=\"https://thumbnews.nateimg.co.kr/news90///news.nateimg.co.kr/orgImg/cz/2025/07/23/cz_1753242064988_567932_0.jpg\"/>"
      ],
      "text/plain": [
       "<IPython.core.display.Image object>"
      ]
     },
     "metadata": {},
     "output_type": "display_data"
    },
    {
     "name": "stdout",
     "output_type": "stream",
     "text": [
      "\n",
      "기사제목: 한화큐셀, RE100 발맞춰 전력판매 사업 속도\n",
      "기사링크: //news.nate.com/view/20250723n17490?mid=n0102\n",
      "Image  : https://thumbnews.nateimg.co.kr/news90///news.nateimg.co.kr/orgImg/en/2025/07/23/1671554_687374_1130.jpg\n"
     ]
    },
    {
     "data": {
      "text/html": [
       "<img src=\"https://thumbnews.nateimg.co.kr/news90///news.nateimg.co.kr/orgImg/en/2025/07/23/1671554_687374_1130.jpg\"/>"
      ],
      "text/plain": [
       "<IPython.core.display.Image object>"
      ]
     },
     "metadata": {},
     "output_type": "display_data"
    },
    {
     "name": "stdout",
     "output_type": "stream",
     "text": [
      "\n",
      "기사제목: 저출생 바닥 찍었나…5월 출생아 증가율, 14년 만에 최고\n",
      "기사링크: //news.nate.com/view/20250723n16822?mid=n0102\n",
      "Image  : https://thumbnews.nateimg.co.kr/news90///news.nateimg.co.kr/orgImg/hn/2025/07/23/53_17532410529042_20250723501536.jpg\n"
     ]
    },
    {
     "data": {
      "text/html": [
       "<img src=\"https://thumbnews.nateimg.co.kr/news90///news.nateimg.co.kr/orgImg/hn/2025/07/23/53_17532410529042_20250723501536.jpg\"/>"
      ],
      "text/plain": [
       "<IPython.core.display.Image object>"
      ]
     },
     "metadata": {},
     "output_type": "display_data"
    },
    {
     "name": "stdout",
     "output_type": "stream",
     "text": [
      "\n",
      "기사제목: 한라산 탐방안내소 주차료 30년 만에 인상…최대 13배\n",
      "기사링크: //news.nate.com/view/20250723n17481?mid=n0102\n",
      "Image  : https://thumbnews.nateimg.co.kr/news90///news.nateimg.co.kr/orgImg/yt/2025/07/23/PYH2020050203600005600_P2.jpg\n"
     ]
    },
    {
     "data": {
      "text/html": [
       "<img src=\"https://thumbnews.nateimg.co.kr/news90///news.nateimg.co.kr/orgImg/yt/2025/07/23/PYH2020050203600005600_P2.jpg\"/>"
      ],
      "text/plain": [
       "<IPython.core.display.Image object>"
      ]
     },
     "metadata": {},
     "output_type": "display_data"
    },
    {
     "name": "stdout",
     "output_type": "stream",
     "text": [
      "\n",
      "기사제목: 넥써쓰, AAA급 MMORPG 개발중인 폴스타게임즈 전략적투자\n",
      "기사링크: //news.nate.com/view/20250723n17472?mid=n0102\n",
      "Image  : https://thumbnews.nateimg.co.kr/news90///news.nateimg.co.kr/orgImg/mk/2025/07/23/news-p.v1.20250723.e3cc4121dc3e45fd88980aaba122aed3_P1.png\n"
     ]
    },
    {
     "data": {
      "text/html": [
       "<img src=\"https://thumbnews.nateimg.co.kr/news90///news.nateimg.co.kr/orgImg/mk/2025/07/23/news-p.v1.20250723.e3cc4121dc3e45fd88980aaba122aed3_P1.png\"/>"
      ],
      "text/plain": [
       "<IPython.core.display.Image object>"
      ]
     },
     "metadata": {},
     "output_type": "display_data"
    },
    {
     "name": "stdout",
     "output_type": "stream",
     "text": [
      "\n",
      "기사제목: 동부건설, 베트남서 2166억 규모 도로공사 수주\n",
      "기사링크: //news.nate.com/view/20250723n17468?mid=n0102\n",
      "Image  : https://thumbnews.nateimg.co.kr/news90///news.nateimg.co.kr/orgImg/ae/2025/07/23/ae_1753241884300_138682_0.png\n"
     ]
    },
    {
     "data": {
      "text/html": [
       "<img src=\"https://thumbnews.nateimg.co.kr/news90///news.nateimg.co.kr/orgImg/ae/2025/07/23/ae_1753241884300_138682_0.png\"/>"
      ],
      "text/plain": [
       "<IPython.core.display.Image object>"
      ]
     },
     "metadata": {},
     "output_type": "display_data"
    },
    {
     "name": "stdout",
     "output_type": "stream",
     "text": [
      "\n",
      "기사제목: AI 추천으로 취업성공…월급도 늘었다\n",
      "기사링크: //news.nate.com/view/20250723n17442?mid=n0102\n",
      "Image  : https://thumbnews.nateimg.co.kr/news90///news.nateimg.co.kr/orgImg/ht/2025/07/23/A202507230666_1.jpg\n"
     ]
    },
    {
     "data": {
      "text/html": [
       "<img src=\"https://thumbnews.nateimg.co.kr/news90///news.nateimg.co.kr/orgImg/ht/2025/07/23/A202507230666_1.jpg\"/>"
      ],
      "text/plain": [
       "<IPython.core.display.Image object>"
      ]
     },
     "metadata": {},
     "output_type": "display_data"
    },
    {
     "name": "stdout",
     "output_type": "stream",
     "text": [
      "\n",
      "기사제목: 서울 신정동 목동13단지 124㎡ 27억5000만원에 거래\n",
      "기사링크: //news.nate.com/view/20250723n17438?mid=n0102\n",
      "Image  : https://thumbnews.nateimg.co.kr/news90///news.nateimg.co.kr/orgImg/cz/2025/07/23/cz_1753241765243_889692_0.jpg\n"
     ]
    },
    {
     "data": {
      "text/html": [
       "<img src=\"https://thumbnews.nateimg.co.kr/news90///news.nateimg.co.kr/orgImg/cz/2025/07/23/cz_1753241765243_889692_0.jpg\"/>"
      ],
      "text/plain": [
       "<IPython.core.display.Image object>"
      ]
     },
     "metadata": {},
     "output_type": "display_data"
    },
    {
     "name": "stdout",
     "output_type": "stream",
     "text": [
      "\n",
      "기사제목: \"100% 환급에 노트북 준다더니\"…2030 피해 속출\n",
      "기사링크: //news.nate.com/view/20250723n16677?mid=n0102\n",
      "Image  : https://thumbnews.nateimg.co.kr/news90///news.nateimg.co.kr/orgImg/ed/2025/07/23/PS25072300746.jpg\n"
     ]
    },
    {
     "data": {
      "text/html": [
       "<img src=\"https://thumbnews.nateimg.co.kr/news90///news.nateimg.co.kr/orgImg/ed/2025/07/23/PS25072300746.jpg\"/>"
      ],
      "text/plain": [
       "<IPython.core.display.Image object>"
      ]
     },
     "metadata": {},
     "output_type": "display_data"
    },
    {
     "name": "stdout",
     "output_type": "stream",
     "text": [
      "\n",
      "기사제목: 구입비 100만원, 수리비 50% 할인…쉐보레, 폭우 피해자에 특별 혜택 제공\n",
      "기사링크: //news.nate.com/view/20250723n17421?mid=n0102\n",
      "Image  : https://thumbnews.nateimg.co.kr/news90///news.nateimg.co.kr/orgImg/mk/2025/07/23/news-p.v1.20250723.26e76d1f8b4f455794e9f080a282cb45_P1.jpg\n"
     ]
    },
    {
     "data": {
      "text/html": [
       "<img src=\"https://thumbnews.nateimg.co.kr/news90///news.nateimg.co.kr/orgImg/mk/2025/07/23/news-p.v1.20250723.26e76d1f8b4f455794e9f080a282cb45_P1.jpg\"/>"
      ],
      "text/plain": [
       "<IPython.core.display.Image object>"
      ]
     },
     "metadata": {},
     "output_type": "display_data"
    },
    {
     "name": "stdout",
     "output_type": "stream",
     "text": [
      "\n",
      "기사제목: BYD그룹, '축구명문' 인터 밀란과 글로벌 자동차 파트너십 체결\n",
      "기사링크: //news.nate.com/view/20250723n17412?mid=n0102\n",
      "Image  : https://thumbnews.nateimg.co.kr/news90///news.nateimg.co.kr/orgImg/mk/2025/07/23/news-p.v1.20250723.9d6bfdbe9f1c4516b1692c82612a1552_P1.jpg\n"
     ]
    },
    {
     "data": {
      "text/html": [
       "<img src=\"https://thumbnews.nateimg.co.kr/news90///news.nateimg.co.kr/orgImg/mk/2025/07/23/news-p.v1.20250723.9d6bfdbe9f1c4516b1692c82612a1552_P1.jpg\"/>"
      ],
      "text/plain": [
       "<IPython.core.display.Image object>"
      ]
     },
     "metadata": {},
     "output_type": "display_data"
    },
    {
     "name": "stdout",
     "output_type": "stream",
     "text": [
      "\n"
     ]
    }
   ],
   "source": [
    "      \n",
    "scraping_nate_news('경제')"
   ]
  },
  {
   "cell_type": "markdown",
   "id": "dc9d5dd3",
   "metadata": {},
   "source": [
    "## 네이버 웹툰 1개 회차에 대한 image 다운로드하기"
   ]
  },
  {
   "cell_type": "code",
   "execution_count": 39,
   "id": "6a40cad8",
   "metadata": {},
   "outputs": [
    {
     "name": "stdout",
     "output_type": "stream",
     "text": [
      "Writing to img/일렉시드\\20250311184953_812848a288eb3e6ce6efe904abd0ef68_IMAG01_1.jpg (87,143 bytes)\n",
      "Writing to img/일렉시드\\20250311184953_812848a288eb3e6ce6efe904abd0ef68_IMAG01_2.jpg (256,127 bytes)\n",
      "Writing to img/일렉시드\\20250311184953_812848a288eb3e6ce6efe904abd0ef68_IMAG01_3.jpg (184,536 bytes)\n",
      "Writing to img/일렉시드\\20250311184953_812848a288eb3e6ce6efe904abd0ef68_IMAG01_4.jpg (182,867 bytes)\n",
      "Writing to img/일렉시드\\20250311184953_812848a288eb3e6ce6efe904abd0ef68_IMAG01_5.jpg (112,615 bytes)\n",
      "Writing to img/일렉시드\\20250311184953_812848a288eb3e6ce6efe904abd0ef68_IMAG01_6.jpg (169,889 bytes)\n",
      "Writing to img/일렉시드\\20250311184953_812848a288eb3e6ce6efe904abd0ef68_IMAG01_7.jpg (157,876 bytes)\n",
      "Writing to img/일렉시드\\20250311184953_812848a288eb3e6ce6efe904abd0ef68_IMAG01_8.jpg (181,837 bytes)\n",
      "Writing to img/일렉시드\\20250311184953_812848a288eb3e6ce6efe904abd0ef68_IMAG01_9.jpg (203,632 bytes)\n",
      "Writing to img/일렉시드\\20250311184953_812848a288eb3e6ce6efe904abd0ef68_IMAG01_10.jpg (113,543 bytes)\n",
      "Writing to img/일렉시드\\20250311184953_812848a288eb3e6ce6efe904abd0ef68_IMAG01_11.jpg (166,818 bytes)\n",
      "Writing to img/일렉시드\\20250311184953_812848a288eb3e6ce6efe904abd0ef68_IMAG01_12.jpg (196,171 bytes)\n",
      "Writing to img/일렉시드\\20250311184953_812848a288eb3e6ce6efe904abd0ef68_IMAG01_13.jpg (158,408 bytes)\n",
      "Writing to img/일렉시드\\20250311184953_812848a288eb3e6ce6efe904abd0ef68_IMAG01_14.jpg (203,525 bytes)\n",
      "Writing to img/일렉시드\\20250311184953_812848a288eb3e6ce6efe904abd0ef68_IMAG01_15.jpg (81,271 bytes)\n",
      "Writing to img/일렉시드\\20250311184953_812848a288eb3e6ce6efe904abd0ef68_IMAG01_16.jpg (171,092 bytes)\n",
      "Writing to img/일렉시드\\20250311184953_812848a288eb3e6ce6efe904abd0ef68_IMAG01_17.jpg (65,626 bytes)\n",
      "Writing to img/일렉시드\\20250311184953_812848a288eb3e6ce6efe904abd0ef68_IMAG01_18.jpg (135,215 bytes)\n",
      "Writing to img/일렉시드\\20250311184953_812848a288eb3e6ce6efe904abd0ef68_IMAG01_19.jpg (96,367 bytes)\n",
      "Writing to img/일렉시드\\20250311184953_812848a288eb3e6ce6efe904abd0ef68_IMAG01_20.jpg (139,925 bytes)\n",
      "Writing to img/일렉시드\\20250311184953_812848a288eb3e6ce6efe904abd0ef68_IMAG01_21.jpg (191,828 bytes)\n",
      "Writing to img/일렉시드\\20250311184953_812848a288eb3e6ce6efe904abd0ef68_IMAG01_22.jpg (211,389 bytes)\n",
      "Writing to img/일렉시드\\20250311184953_812848a288eb3e6ce6efe904abd0ef68_IMAG01_23.jpg (174,099 bytes)\n",
      "Writing to img/일렉시드\\20250311184953_812848a288eb3e6ce6efe904abd0ef68_IMAG01_24.jpg (187,978 bytes)\n",
      "Writing to img/일렉시드\\20250311184953_812848a288eb3e6ce6efe904abd0ef68_IMAG01_25.jpg (185,536 bytes)\n",
      "Writing to img/일렉시드\\20250311184953_812848a288eb3e6ce6efe904abd0ef68_IMAG01_26.jpg (286,246 bytes)\n",
      "Writing to img/일렉시드\\20250311184953_812848a288eb3e6ce6efe904abd0ef68_IMAG01_27.jpg (238,473 bytes)\n",
      "Writing to img/일렉시드\\20250311184953_812848a288eb3e6ce6efe904abd0ef68_IMAG01_28.jpg (148,309 bytes)\n",
      "Writing to img/일렉시드\\20250311184953_812848a288eb3e6ce6efe904abd0ef68_IMAG01_29.jpg (245,722 bytes)\n",
      "Writing to img/일렉시드\\20250311184953_812848a288eb3e6ce6efe904abd0ef68_IMAG01_30.jpg (232,985 bytes)\n",
      "Writing to img/일렉시드\\20250311184953_812848a288eb3e6ce6efe904abd0ef68_IMAG01_31.jpg (178,547 bytes)\n",
      "Writing to img/일렉시드\\20250311184953_812848a288eb3e6ce6efe904abd0ef68_IMAG01_32.jpg (176,348 bytes)\n",
      "Writing to img/일렉시드\\20250311184953_812848a288eb3e6ce6efe904abd0ef68_IMAG01_33.jpg (196,741 bytes)\n",
      "Writing to img/일렉시드\\20250311184953_812848a288eb3e6ce6efe904abd0ef68_IMAG01_34.jpg (232,565 bytes)\n",
      "Writing to img/일렉시드\\20250311184953_812848a288eb3e6ce6efe904abd0ef68_IMAG01_35.jpg (214,587 bytes)\n",
      "Writing to img/일렉시드\\20250311184953_812848a288eb3e6ce6efe904abd0ef68_IMAG01_36.jpg (137,502 bytes)\n",
      "Writing to img/일렉시드\\20250311184953_812848a288eb3e6ce6efe904abd0ef68_IMAG01_37.jpg (153,089 bytes)\n",
      "Writing to img/일렉시드\\20250311184953_812848a288eb3e6ce6efe904abd0ef68_IMAG01_38.jpg (250,210 bytes)\n",
      "Writing to img/일렉시드\\20250311184953_812848a288eb3e6ce6efe904abd0ef68_IMAG01_39.jpg (216,059 bytes)\n",
      "Writing to img/일렉시드\\20250311184953_812848a288eb3e6ce6efe904abd0ef68_IMAG01_40.jpg (203,977 bytes)\n",
      "Writing to img/일렉시드\\20250311184953_812848a288eb3e6ce6efe904abd0ef68_IMAG01_41.jpg (170,488 bytes)\n",
      "Writing to img/일렉시드\\20250311184953_812848a288eb3e6ce6efe904abd0ef68_IMAG01_42.jpg (150,868 bytes)\n",
      "Writing to img/일렉시드\\20250311184953_812848a288eb3e6ce6efe904abd0ef68_IMAG01_43.jpg (183,488 bytes)\n",
      "Writing to img/일렉시드\\20250311184953_812848a288eb3e6ce6efe904abd0ef68_IMAG01_44.jpg (205,269 bytes)\n",
      "Writing to img/일렉시드\\20250311184953_812848a288eb3e6ce6efe904abd0ef68_IMAG01_45.jpg (172,439 bytes)\n",
      "Writing to img/일렉시드\\20250311184953_812848a288eb3e6ce6efe904abd0ef68_IMAG01_46.jpg (179,258 bytes)\n",
      "Writing to img/일렉시드\\20250311184953_812848a288eb3e6ce6efe904abd0ef68_IMAG01_47.jpg (205,046 bytes)\n",
      "Writing to img/일렉시드\\20250311184953_812848a288eb3e6ce6efe904abd0ef68_IMAG01_48.jpg (196,106 bytes)\n",
      "Writing to img/일렉시드\\20250311184953_812848a288eb3e6ce6efe904abd0ef68_IMAG01_49.jpg (175,273 bytes)\n",
      "Writing to img/일렉시드\\20250311184953_812848a288eb3e6ce6efe904abd0ef68_IMAG01_50.jpg (320,751 bytes)\n",
      "Writing to img/일렉시드\\20250311184953_812848a288eb3e6ce6efe904abd0ef68_IMAG01_51.jpg (240,744 bytes)\n",
      "Writing to img/일렉시드\\20250311184953_812848a288eb3e6ce6efe904abd0ef68_IMAG01_52.jpg (158,821 bytes)\n",
      "Writing to img/일렉시드\\20250311184953_812848a288eb3e6ce6efe904abd0ef68_IMAG01_53.jpg (190,448 bytes)\n",
      "Writing to img/일렉시드\\20250311184953_812848a288eb3e6ce6efe904abd0ef68_IMAG01_54.jpg (156,224 bytes)\n",
      "Writing to img/일렉시드\\20250311184953_812848a288eb3e6ce6efe904abd0ef68_IMAG01_55.jpg (191,149 bytes)\n",
      "Writing to img/일렉시드\\20250311184953_812848a288eb3e6ce6efe904abd0ef68_IMAG01_56.jpg (137,781 bytes)\n",
      "Writing to img/일렉시드\\20250311184953_812848a288eb3e6ce6efe904abd0ef68_IMAG01_57.jpg (174,969 bytes)\n",
      "Writing to img/일렉시드\\20250311184953_812848a288eb3e6ce6efe904abd0ef68_IMAG01_58.jpg (169,813 bytes)\n",
      "Writing to img/일렉시드\\20250311184953_812848a288eb3e6ce6efe904abd0ef68_IMAG01_59.jpg (183,086 bytes)\n",
      "Writing to img/일렉시드\\20250311184953_812848a288eb3e6ce6efe904abd0ef68_IMAG01_60.jpg (191,297 bytes)\n",
      "Writing to img/일렉시드\\20250311184953_812848a288eb3e6ce6efe904abd0ef68_IMAG01_61.jpg (201,884 bytes)\n",
      "Writing to img/일렉시드\\20250311184953_812848a288eb3e6ce6efe904abd0ef68_IMAG01_62.jpg (186,718 bytes)\n",
      "Writing to img/일렉시드\\20250311184953_812848a288eb3e6ce6efe904abd0ef68_IMAG01_63.jpg (115,304 bytes)\n",
      "Writing to img/일렉시드\\20250311184953_812848a288eb3e6ce6efe904abd0ef68_IMAG01_64.jpg (239,910 bytes)\n",
      "Writing to img/일렉시드\\20250311184953_812848a288eb3e6ce6efe904abd0ef68_IMAG01_65.jpg (160,774 bytes)\n",
      "Writing to img/일렉시드\\20250311184953_812848a288eb3e6ce6efe904abd0ef68_IMAG01_66.jpg (188,427 bytes)\n",
      "Writing to img/일렉시드\\20250311184953_812848a288eb3e6ce6efe904abd0ef68_IMAG01_67.jpg (196,378 bytes)\n",
      "Writing to img/일렉시드\\20250311184953_812848a288eb3e6ce6efe904abd0ef68_IMAG01_68.jpg (195,161 bytes)\n",
      "Writing to img/일렉시드\\20250311184953_812848a288eb3e6ce6efe904abd0ef68_IMAG01_69.jpg (207,700 bytes)\n",
      "Writing to img/일렉시드\\20250311184953_812848a288eb3e6ce6efe904abd0ef68_IMAG01_70.jpg (191,109 bytes)\n",
      "Writing to img/일렉시드\\20250311184953_812848a288eb3e6ce6efe904abd0ef68_IMAG01_71.jpg (135,448 bytes)\n",
      "Writing to img/일렉시드\\20250311184953_812848a288eb3e6ce6efe904abd0ef68_IMAG01_72.jpg (254,244 bytes)\n",
      "Writing to img/일렉시드\\20250311184953_812848a288eb3e6ce6efe904abd0ef68_IMAG01_73.jpg (190,447 bytes)\n",
      "Writing to img/일렉시드\\20250311184953_812848a288eb3e6ce6efe904abd0ef68_IMAG01_74.jpg (140,545 bytes)\n",
      "Writing to img/일렉시드\\20250311184953_812848a288eb3e6ce6efe904abd0ef68_IMAG01_75.jpg (90,130 bytes)\n",
      "Writing to img/일렉시드\\20250311184953_812848a288eb3e6ce6efe904abd0ef68_IMAG01_76.jpg (194,086 bytes)\n",
      "Writing to img/일렉시드\\20250311184953_812848a288eb3e6ce6efe904abd0ef68_IMAG01_77.jpg (189,616 bytes)\n",
      "Writing to img/일렉시드\\20250311184953_812848a288eb3e6ce6efe904abd0ef68_IMAG01_78.jpg (244,264 bytes)\n",
      "Writing to img/일렉시드\\20250311184953_812848a288eb3e6ce6efe904abd0ef68_IMAG01_79.jpg (226,750 bytes)\n",
      "Writing to img/일렉시드\\20250311184953_812848a288eb3e6ce6efe904abd0ef68_IMAG01_80.jpg (73,608 bytes)\n",
      "Writing to img/일렉시드\\20250311184953_812848a288eb3e6ce6efe904abd0ef68_IMAG01_81.jpg (175,437 bytes)\n",
      "Writing to img/일렉시드\\20250311184953_812848a288eb3e6ce6efe904abd0ef68_IMAG01_82.jpg (141,961 bytes)\n",
      "Writing to img/일렉시드\\20250311184953_812848a288eb3e6ce6efe904abd0ef68_IMAG01_83.jpg (145,494 bytes)\n",
      "Writing to img/일렉시드\\20250311184953_812848a288eb3e6ce6efe904abd0ef68_IMAG01_84.jpg (121,081 bytes)\n",
      "Writing to img/일렉시드\\20250311184953_812848a288eb3e6ce6efe904abd0ef68_IMAG01_85.jpg (148,191 bytes)\n",
      "Writing to img/일렉시드\\20250311184953_812848a288eb3e6ce6efe904abd0ef68_IMAG01_86.jpg (186,055 bytes)\n",
      "Writing to img/일렉시드\\20250311184953_812848a288eb3e6ce6efe904abd0ef68_IMAG01_87.jpg (170,532 bytes)\n",
      "Writing to img/일렉시드\\20250311184953_812848a288eb3e6ce6efe904abd0ef68_IMAG01_88.jpg (99,449 bytes)\n"
     ]
    }
   ],
   "source": [
    "import requests\n",
    "import os\n",
    "from bs4 import BeautifulSoup\n",
    "\n",
    "\n",
    "def download_one_episode(little, no, url):\n",
    "    # 기본 설정\n",
    "    req_header = {'referer': url}\n",
    "    imgdir_name = f'img/{little}'\n",
    "\n",
    "    # 이미지 저장 폴더가 없으면 생성\n",
    "    os.makedirs(imgdir_name, exist_ok=True)\n",
    "\n",
    "    # 웹 페이지 요청 및 확인\n",
    "    res = requests.get(url)\n",
    "    res.encoding = 'EUC-KR'\n",
    "    if not res.ok:\n",
    "        print(f'Error Code = {res.status_code}')\n",
    "        exit()\n",
    "    \n",
    "    # 이미지 URL 추출\n",
    "    soup = BeautifulSoup(res.text, 'html.parser')\n",
    "    img_url_list = [img_tag['src'] for img_tag in soup.select(\"img[src*='IMAG01']\")]\n",
    "\n",
    "    # 이미지 다운로드\n",
    "    for img_url in img_url_list:\n",
    "        res = requests.get(img_url, headers=req_header)\n",
    "        if res.ok:\n",
    "            img_data = res.content\n",
    "            file_path = os.path.join(imgdir_name, os.path.basename(img_url))\n",
    "            with open(file_path, 'wb') as file:\n",
    "                print(f'Writing to {file_path} ({len(img_data):,} bytes)')\n",
    "                file.write(img_data)\n",
    "        else:\n",
    "            print(f'Error Code = {res.status_code} for {img_url}')\n",
    "\n",
    "\n",
    "download_one_episode('일렉시드',341,'https://comic.naver.com/webtoon/detail?titleId=717481&no=341&week=wed')"
   ]
  }
 ],
 "metadata": {
  "kernelspec": {
   "display_name": "base",
   "language": "python",
   "name": "python3"
  },
  "language_info": {
   "codemirror_mode": {
    "name": "ipython",
    "version": 3
   },
   "file_extension": ".py",
   "mimetype": "text/x-python",
   "name": "python",
   "nbconvert_exporter": "python",
   "pygments_lexer": "ipython3",
   "version": "3.12.7"
  }
 },
 "nbformat": 4,
 "nbformat_minor": 5
}
