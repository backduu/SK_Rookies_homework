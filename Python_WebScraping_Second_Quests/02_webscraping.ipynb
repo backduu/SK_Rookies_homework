{
 "cells": [
  {
   "cell_type": "markdown",
   "id": "3adbfd2e",
   "metadata": {},
   "source": [
    "## Nate 뉴스기사 제목 스크래핑하기"
   ]
  },
  {
   "cell_type": "code",
   "execution_count": null,
   "id": "e232cbf2",
   "metadata": {},
   "outputs": [],
   "source": [
    "import requests\n",
    "from urllib.parse import urljoin\n",
    "from bs4 import BeautifulSoup\n",
    "from IPython.display import Image, display\n",
    "\n",
    "\n",
    "section_dict = {\n",
    "    '최신뉴스': 'n0100',\n",
    "    '정치': 'n0101',\n",
    "    '경제': 'n0102',\n",
    "    '사회': 'n0103',\n",
    "    '세계': 'n0104',\n",
    "    'IT/과학': 'n0105'\n",
    "}\n",
    "\n",
    "def scraping_nate_news(section_name):\n",
    "        # 섹션 예외처리\n",
    "    if not section_dict.get(section_name):\n",
    "        print(f\"'{section_name}'은 존재하지 않습니다!\")\n",
    "        return\n",
    "    \n",
    "    news_url = f'https://news.nate.com/recent?mid={section_dict[section_name]}'\n",
    "\n",
    "    print(f'++++++++++++ [ {section_name} 뉴스 ] {news_url} ++++++++++++')\n",
    "    req_header = {\n",
    "        'referer' : news_url,\n",
    "        \"user-agent\": \"Mozilla/5.0 (Windows NT 10.0; Win64; x64) AppleWebKit/537.36 (KHTML, like Gecko) Chrome/104.0.0.0 Safari/537.36\"\n",
    "    }\n",
    "\n",
    "    res = requests.get(news_url)\n",
    "    res.encoding = 'EUC-KR'\n",
    "    if res.ok:\n",
    "        soup = BeautifulSoup(res.text, 'html.parser')\n",
    "        news_items = soup.select('div.postSubjectContent div.mlt01')\n",
    "\n",
    "        for news_item in news_items:\n",
    "            # 기사 제목\n",
    "            h2_tag = news_item.select_one('h2.tit')\n",
    "            title = h2_tag.text.strip()\n",
    "            # 기사 링크\n",
    "            a_tag = news_item.find('a')\n",
    "            url = a_tag['href']\n",
    "            image_tag = a_tag.select_one('img[src]')\n",
    "            \n",
    "            print(f'기사제목: {title}')\n",
    "            print(f'기사링크: {url}')\n",
    "            if image_tag and 'src' in image_tag.attrs: # 이미지 존재 여부 및 src 속성 확인\n",
    "                # 기사 이미지\n",
    "                full_image_url = urljoin(news_url, image_tag['src'])\n",
    "                print(f\"Image  : {full_image_url}\")\n",
    "                display(Image(url=full_image_url))\n",
    "            \n",
    "            print()\n",
    "\n",
    "\n",
    "            #print(len(soup.select(\"img[src^='//thumbnews.nateimg.co.kr/news90///news.nateimg.co.kr/orgImg/']\")))4=          \n",
    "            \n",
    "  "
   ]
  },
  {
   "cell_type": "code",
   "execution_count": 40,
   "id": "68187fb1",
   "metadata": {},
   "outputs": [
    {
     "name": "stdout",
     "output_type": "stream",
     "text": [
      "++++++++++++ [ 경제 뉴스 ] https://news.nate.com/recent?mid=n0102 ++++++++++++\n",
      "기사제목: 부산 화명동 화명롯데캐슬카이저 84㎡ 5억9000만원에 거래\n",
      "기사링크: //news.nate.com/view/20250723n17685?mid=n0102\n",
      "Image  : https://thumbnews.nateimg.co.kr/news90///news.nateimg.co.kr/orgImg/cz/2025/07/23/cz_1753242665608_123499_0.jpg\n"
     ]
    },
    {
     "data": {
      "text/html": [
       "<img src=\"https://thumbnews.nateimg.co.kr/news90///news.nateimg.co.kr/orgImg/cz/2025/07/23/cz_1753242665608_123499_0.jpg\"/>"
      ],
      "text/plain": [
       "<IPython.core.display.Image object>"
      ]
     },
     "metadata": {},
     "output_type": "display_data"
    },
    {
     "name": "stdout",
     "output_type": "stream",
     "text": [
      "\n",
      "기사제목: 카카오게임즈 신작 '가디스오더', 9월 글로벌 정식 출시 예고\n",
      "기사링크: //news.nate.com/view/20250723n17677?mid=n0102\n",
      "Image  : https://thumbnews.nateimg.co.kr/news90///news.nateimg.co.kr/orgImg/mk/2025/07/23/news-p.v1.20250723.8e5b978d45034f47a4f653d20d07715e_P1.jpg\n"
     ]
    },
    {
     "data": {
      "text/html": [
       "<img src=\"https://thumbnews.nateimg.co.kr/news90///news.nateimg.co.kr/orgImg/mk/2025/07/23/news-p.v1.20250723.8e5b978d45034f47a4f653d20d07715e_P1.jpg\"/>"
      ],
      "text/plain": [
       "<IPython.core.display.Image object>"
      ]
     },
     "metadata": {},
     "output_type": "display_data"
    },
    {
     "name": "stdout",
     "output_type": "stream",
     "text": [
      "\n",
      "기사제목: 미래기술교육연구원, 'ChatGPT 활용 마스터 3기' 교육 개설\n",
      "기사링크: //news.nate.com/view/20250723n17667?mid=n0102\n",
      "Image  : https://thumbnews.nateimg.co.kr/news90///news.nateimg.co.kr/orgImg/wh/2025/07/23/1247378_1446424_4752.jpg\n"
     ]
    },
    {
     "data": {
      "text/html": [
       "<img src=\"https://thumbnews.nateimg.co.kr/news90///news.nateimg.co.kr/orgImg/wh/2025/07/23/1247378_1446424_4752.jpg\"/>"
      ],
      "text/plain": [
       "<IPython.core.display.Image object>"
      ]
     },
     "metadata": {},
     "output_type": "display_data"
    },
    {
     "name": "stdout",
     "output_type": "stream",
     "text": [
      "\n",
      "기사제목: '소비쿠폰 효과' 톡톡…CU 간편식 매출 24% 증가\n",
      "기사링크: //news.nate.com/view/20250723n17662?mid=n0102\n",
      "Image  : https://thumbnews.nateimg.co.kr/news90///news.nateimg.co.kr/orgImg/na/2025/07/23/7408706_high.jpg\n"
     ]
    },
    {
     "data": {
      "text/html": [
       "<img src=\"https://thumbnews.nateimg.co.kr/news90///news.nateimg.co.kr/orgImg/na/2025/07/23/7408706_high.jpg\"/>"
      ],
      "text/plain": [
       "<IPython.core.display.Image object>"
      ]
     },
     "metadata": {},
     "output_type": "display_data"
    },
    {
     "name": "stdout",
     "output_type": "stream",
     "text": [
      "\n",
      "기사제목: \"중국서 무려 100억어치 팔려\" 김밥 난리에…풀무원 '불기둥'\n",
      "기사링크: //news.nate.com/view/20250723n17074?mid=n0102\n",
      "Image  : https://thumbnews.nateimg.co.kr/news90///news.nateimg.co.kr/orgImg/mt/2025/07/23/mt_1753242364835_32893_0.jpg\n"
     ]
    },
    {
     "data": {
      "text/html": [
       "<img src=\"https://thumbnews.nateimg.co.kr/news90///news.nateimg.co.kr/orgImg/mt/2025/07/23/mt_1753242364835_32893_0.jpg\"/>"
      ],
      "text/plain": [
       "<IPython.core.display.Image object>"
      ]
     },
     "metadata": {},
     "output_type": "display_data"
    },
    {
     "name": "stdout",
     "output_type": "stream",
     "text": [
      "\n",
      "기사제목: 부산 화명동 화명롯데캐슬카이저 98㎡ 7억3000만원에 거래\n",
      "기사링크: //news.nate.com/view/20250723n17567?mid=n0102\n",
      "Image  : https://thumbnews.nateimg.co.kr/news90///news.nateimg.co.kr/orgImg/cz/2025/07/23/cz_1753242364623_638390_0.jpg\n"
     ]
    },
    {
     "data": {
      "text/html": [
       "<img src=\"https://thumbnews.nateimg.co.kr/news90///news.nateimg.co.kr/orgImg/cz/2025/07/23/cz_1753242364623_638390_0.jpg\"/>"
      ],
      "text/plain": [
       "<IPython.core.display.Image object>"
      ]
     },
     "metadata": {},
     "output_type": "display_data"
    },
    {
     "name": "stdout",
     "output_type": "stream",
     "text": [
      "\n",
      "기사제목: 다들 미쳤다고 했던 '비트코인 연봉'…4년 만에 2배로 뛰었다\n",
      "기사링크: //news.nate.com/view/20250723n17535?mid=n0102\n",
      "Image  : https://thumbnews.nateimg.co.kr/news90///news.nateimg.co.kr/orgImg/no/2025/07/23/SSC_20250723124227_V.jpg\n"
     ]
    },
    {
     "data": {
      "text/html": [
       "<img src=\"https://thumbnews.nateimg.co.kr/news90///news.nateimg.co.kr/orgImg/no/2025/07/23/SSC_20250723124227_V.jpg\"/>"
      ],
      "text/plain": [
       "<IPython.core.display.Image object>"
      ]
     },
     "metadata": {},
     "output_type": "display_data"
    },
    {
     "name": "stdout",
     "output_type": "stream",
     "text": [
      "\n",
      "기사제목: 中 '스마트 글라스' 주도권 노린다…로봇시대 데이터 확보戰\n",
      "기사링크: //news.nate.com/view/20250723n17505?mid=n0102\n",
      "Image  : https://thumbnews.nateimg.co.kr/news90///news.nateimg.co.kr/orgImg/en/2025/07/23/1671549_687366_5638.jpg\n"
     ]
    },
    {
     "data": {
      "text/html": [
       "<img src=\"https://thumbnews.nateimg.co.kr/news90///news.nateimg.co.kr/orgImg/en/2025/07/23/1671549_687366_5638.jpg\"/>"
      ],
      "text/plain": [
       "<IPython.core.display.Image object>"
      ]
     },
     "metadata": {},
     "output_type": "display_data"
    },
    {
     "name": "stdout",
     "output_type": "stream",
     "text": [
      "\n",
      "기사제목: \"막힌 귀는 시원하게, 소리는 강렬하게\"…하만 JBL, '오픈형 이어폰 끝판왕' 출시\n",
      "기사링크: //news.nate.com/view/20250723n17497?mid=n0102\n",
      "Image  : https://thumbnews.nateimg.co.kr/news90///news.nateimg.co.kr/orgImg/mk/2025/07/23/news-p.v1.20250723.c12dc1ef76c049e3addf74b61933233a_P1.jpg\n"
     ]
    },
    {
     "data": {
      "text/html": [
       "<img src=\"https://thumbnews.nateimg.co.kr/news90///news.nateimg.co.kr/orgImg/mk/2025/07/23/news-p.v1.20250723.c12dc1ef76c049e3addf74b61933233a_P1.jpg\"/>"
      ],
      "text/plain": [
       "<IPython.core.display.Image object>"
      ]
     },
     "metadata": {},
     "output_type": "display_data"
    },
    {
     "name": "stdout",
     "output_type": "stream",
     "text": [
      "\n",
      "기사제목: 서울 고덕동 래미안힐스테이트 고덕  84㎡ 17억2500만원에 거래\n",
      "기사링크: //news.nate.com/view/20250723n17491?mid=n0102\n",
      "Image  : https://thumbnews.nateimg.co.kr/news90///news.nateimg.co.kr/orgImg/cz/2025/07/23/cz_1753242064988_567932_0.jpg\n"
     ]
    },
    {
     "data": {
      "text/html": [
       "<img src=\"https://thumbnews.nateimg.co.kr/news90///news.nateimg.co.kr/orgImg/cz/2025/07/23/cz_1753242064988_567932_0.jpg\"/>"
      ],
      "text/plain": [
       "<IPython.core.display.Image object>"
      ]
     },
     "metadata": {},
     "output_type": "display_data"
    },
    {
     "name": "stdout",
     "output_type": "stream",
     "text": [
      "\n",
      "기사제목: 한화큐셀, RE100 발맞춰 전력판매 사업 속도\n",
      "기사링크: //news.nate.com/view/20250723n17490?mid=n0102\n",
      "Image  : https://thumbnews.nateimg.co.kr/news90///news.nateimg.co.kr/orgImg/en/2025/07/23/1671554_687374_1130.jpg\n"
     ]
    },
    {
     "data": {
      "text/html": [
       "<img src=\"https://thumbnews.nateimg.co.kr/news90///news.nateimg.co.kr/orgImg/en/2025/07/23/1671554_687374_1130.jpg\"/>"
      ],
      "text/plain": [
       "<IPython.core.display.Image object>"
      ]
     },
     "metadata": {},
     "output_type": "display_data"
    },
    {
     "name": "stdout",
     "output_type": "stream",
     "text": [
      "\n",
      "기사제목: 저출생 바닥 찍었나…5월 출생아 증가율, 14년 만에 최고\n",
      "기사링크: //news.nate.com/view/20250723n16822?mid=n0102\n",
      "Image  : https://thumbnews.nateimg.co.kr/news90///news.nateimg.co.kr/orgImg/hn/2025/07/23/53_17532410529042_20250723501536.jpg\n"
     ]
    },
    {
     "data": {
      "text/html": [
       "<img src=\"https://thumbnews.nateimg.co.kr/news90///news.nateimg.co.kr/orgImg/hn/2025/07/23/53_17532410529042_20250723501536.jpg\"/>"
      ],
      "text/plain": [
       "<IPython.core.display.Image object>"
      ]
     },
     "metadata": {},
     "output_type": "display_data"
    },
    {
     "name": "stdout",
     "output_type": "stream",
     "text": [
      "\n",
      "기사제목: 한라산 탐방안내소 주차료 30년 만에 인상…최대 13배\n",
      "기사링크: //news.nate.com/view/20250723n17481?mid=n0102\n",
      "Image  : https://thumbnews.nateimg.co.kr/news90///news.nateimg.co.kr/orgImg/yt/2025/07/23/PYH2020050203600005600_P2.jpg\n"
     ]
    },
    {
     "data": {
      "text/html": [
       "<img src=\"https://thumbnews.nateimg.co.kr/news90///news.nateimg.co.kr/orgImg/yt/2025/07/23/PYH2020050203600005600_P2.jpg\"/>"
      ],
      "text/plain": [
       "<IPython.core.display.Image object>"
      ]
     },
     "metadata": {},
     "output_type": "display_data"
    },
    {
     "name": "stdout",
     "output_type": "stream",
     "text": [
      "\n",
      "기사제목: 넥써쓰, AAA급 MMORPG 개발중인 폴스타게임즈 전략적투자\n",
      "기사링크: //news.nate.com/view/20250723n17472?mid=n0102\n",
      "Image  : https://thumbnews.nateimg.co.kr/news90///news.nateimg.co.kr/orgImg/mk/2025/07/23/news-p.v1.20250723.e3cc4121dc3e45fd88980aaba122aed3_P1.png\n"
     ]
    },
    {
     "data": {
      "text/html": [
       "<img src=\"https://thumbnews.nateimg.co.kr/news90///news.nateimg.co.kr/orgImg/mk/2025/07/23/news-p.v1.20250723.e3cc4121dc3e45fd88980aaba122aed3_P1.png\"/>"
      ],
      "text/plain": [
       "<IPython.core.display.Image object>"
      ]
     },
     "metadata": {},
     "output_type": "display_data"
    },
    {
     "name": "stdout",
     "output_type": "stream",
     "text": [
      "\n",
      "기사제목: 동부건설, 베트남서 2166억 규모 도로공사 수주\n",
      "기사링크: //news.nate.com/view/20250723n17468?mid=n0102\n",
      "Image  : https://thumbnews.nateimg.co.kr/news90///news.nateimg.co.kr/orgImg/ae/2025/07/23/ae_1753241884300_138682_0.png\n"
     ]
    },
    {
     "data": {
      "text/html": [
       "<img src=\"https://thumbnews.nateimg.co.kr/news90///news.nateimg.co.kr/orgImg/ae/2025/07/23/ae_1753241884300_138682_0.png\"/>"
      ],
      "text/plain": [
       "<IPython.core.display.Image object>"
      ]
     },
     "metadata": {},
     "output_type": "display_data"
    },
    {
     "name": "stdout",
     "output_type": "stream",
     "text": [
      "\n",
      "기사제목: AI 추천으로 취업성공…월급도 늘었다\n",
      "기사링크: //news.nate.com/view/20250723n17442?mid=n0102\n",
      "Image  : https://thumbnews.nateimg.co.kr/news90///news.nateimg.co.kr/orgImg/ht/2025/07/23/A202507230666_1.jpg\n"
     ]
    },
    {
     "data": {
      "text/html": [
       "<img src=\"https://thumbnews.nateimg.co.kr/news90///news.nateimg.co.kr/orgImg/ht/2025/07/23/A202507230666_1.jpg\"/>"
      ],
      "text/plain": [
       "<IPython.core.display.Image object>"
      ]
     },
     "metadata": {},
     "output_type": "display_data"
    },
    {
     "name": "stdout",
     "output_type": "stream",
     "text": [
      "\n",
      "기사제목: 서울 신정동 목동13단지 124㎡ 27억5000만원에 거래\n",
      "기사링크: //news.nate.com/view/20250723n17438?mid=n0102\n",
      "Image  : https://thumbnews.nateimg.co.kr/news90///news.nateimg.co.kr/orgImg/cz/2025/07/23/cz_1753241765243_889692_0.jpg\n"
     ]
    },
    {
     "data": {
      "text/html": [
       "<img src=\"https://thumbnews.nateimg.co.kr/news90///news.nateimg.co.kr/orgImg/cz/2025/07/23/cz_1753241765243_889692_0.jpg\"/>"
      ],
      "text/plain": [
       "<IPython.core.display.Image object>"
      ]
     },
     "metadata": {},
     "output_type": "display_data"
    },
    {
     "name": "stdout",
     "output_type": "stream",
     "text": [
      "\n",
      "기사제목: \"100% 환급에 노트북 준다더니\"…2030 피해 속출\n",
      "기사링크: //news.nate.com/view/20250723n16677?mid=n0102\n",
      "Image  : https://thumbnews.nateimg.co.kr/news90///news.nateimg.co.kr/orgImg/ed/2025/07/23/PS25072300746.jpg\n"
     ]
    },
    {
     "data": {
      "text/html": [
       "<img src=\"https://thumbnews.nateimg.co.kr/news90///news.nateimg.co.kr/orgImg/ed/2025/07/23/PS25072300746.jpg\"/>"
      ],
      "text/plain": [
       "<IPython.core.display.Image object>"
      ]
     },
     "metadata": {},
     "output_type": "display_data"
    },
    {
     "name": "stdout",
     "output_type": "stream",
     "text": [
      "\n",
      "기사제목: 구입비 100만원, 수리비 50% 할인…쉐보레, 폭우 피해자에 특별 혜택 제공\n",
      "기사링크: //news.nate.com/view/20250723n17421?mid=n0102\n",
      "Image  : https://thumbnews.nateimg.co.kr/news90///news.nateimg.co.kr/orgImg/mk/2025/07/23/news-p.v1.20250723.26e76d1f8b4f455794e9f080a282cb45_P1.jpg\n"
     ]
    },
    {
     "data": {
      "text/html": [
       "<img src=\"https://thumbnews.nateimg.co.kr/news90///news.nateimg.co.kr/orgImg/mk/2025/07/23/news-p.v1.20250723.26e76d1f8b4f455794e9f080a282cb45_P1.jpg\"/>"
      ],
      "text/plain": [
       "<IPython.core.display.Image object>"
      ]
     },
     "metadata": {},
     "output_type": "display_data"
    },
    {
     "name": "stdout",
     "output_type": "stream",
     "text": [
      "\n",
      "기사제목: BYD그룹, '축구명문' 인터 밀란과 글로벌 자동차 파트너십 체결\n",
      "기사링크: //news.nate.com/view/20250723n17412?mid=n0102\n",
      "Image  : https://thumbnews.nateimg.co.kr/news90///news.nateimg.co.kr/orgImg/mk/2025/07/23/news-p.v1.20250723.9d6bfdbe9f1c4516b1692c82612a1552_P1.jpg\n"
     ]
    },
    {
     "data": {
      "text/html": [
       "<img src=\"https://thumbnews.nateimg.co.kr/news90///news.nateimg.co.kr/orgImg/mk/2025/07/23/news-p.v1.20250723.9d6bfdbe9f1c4516b1692c82612a1552_P1.jpg\"/>"
      ],
      "text/plain": [
       "<IPython.core.display.Image object>"
      ]
     },
     "metadata": {},
     "output_type": "display_data"
    },
    {
     "name": "stdout",
     "output_type": "stream",
     "text": [
      "\n"
     ]
    }
   ],
   "source": [
    "      \n",
    "scraping_nate_news('경제')"
   ]
  },
  {
   "cell_type": "markdown",
   "id": "dc9d5dd3",
   "metadata": {},
   "source": [
    "## 네이버 웹툰 1개 회차에 대한 image 다운로드하기"
   ]
  },
  {
   "cell_type": "code",
   "execution_count": null,
   "id": "6a40cad8",
   "metadata": {},
   "outputs": [],
   "source": [
    "import requests\n",
    "import os\n",
    "from bs4 import BeautifulSoup\n",
    "\n",
    "\n",
    "def download_one_episode(little, no, url):\n",
    "    ## 저작권 문제로 지웁니다.\n",
    "\n",
    "download_one_episode(#저작권 문제#)"
   ]
  }
 ],
 "metadata": {
  "kernelspec": {
   "display_name": "base",
   "language": "python",
   "name": "python3"
  },
  "language_info": {
   "codemirror_mode": {
    "name": "ipython",
    "version": 3
   },
   "file_extension": ".py",
   "mimetype": "text/x-python",
   "name": "python",
   "nbconvert_exporter": "python",
   "pygments_lexer": "ipython3",
   "version": "3.12.7"
  }
 },
 "nbformat": 4,
 "nbformat_minor": 5
}
